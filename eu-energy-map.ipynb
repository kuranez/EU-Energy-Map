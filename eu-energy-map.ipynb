{
 "cells": [
  {
   "cell_type": "markdown",
   "id": "c05c3d5d-d6bf-484f-aa33-9e40a405131d",
   "metadata": {},
   "source": [
    "# European Union Energy Map"
   ]
  },
  {
   "cell_type": "markdown",
   "id": "e9c74229-f60a-4d30-adf6-f68214a4fc6c",
   "metadata": {},
   "source": [
    "Dashboard with interactive map visualizing Eurostat data regarding renewable energy developments in the European Union.\n",
    "\n",
    "Data is pulled from [Eurostat](https://ec.europa.eu/eurostat/databrowser/explore/all/envir?lang=en&subtheme=nrg&display=list&sort=category).\n",
    "\n",
    "**GitHub**: [https://github.com/kuranez/EU-Energy-Map](https://github.com/kuranez/EU-Energy-Map)"
   ]
  },
  {
   "cell_type": "markdown",
   "id": "dcc54fc1-4c08-44b9-88ca-b1bb809c1928",
   "metadata": {},
   "source": [
    "# Table of Contents\n",
    "1. [Data Sources](#data-sources)\n",
    "2. [Imports](#imports)\n",
    "3. [Settings](#settings)\n",
    "4. [Load & Format Data](#load-&-format-data)\n",
    "5. [List Countries & Energy Types](#list-countries-&-energy-types)\n",
    "6. [Filter Data to Display](#filter-data-to-display)\n",
    "7. [Dashboard Components](#dashboard-components)\n",
    "8. [Dashboard Content](#dashboard-content)\n",
    "9. [Create Dashboard](#create-dashboard)\n"
   ]
  },
  {
   "cell_type": "markdown",
   "id": "bfe618de-a61a-4ef4-a8e0-e2e29f4ac6ec",
   "metadata": {},
   "source": [
    "## Data Sources"
   ]
  },
  {
   "cell_type": "markdown",
   "id": "4b8d6c43-294a-4509-8123-80299bfc4ed2",
   "metadata": {},
   "source": [
    "### List of Datasets\n",
    "\n",
    "**nrg_ind_ren_linear.csv**\n",
    "\n",
    "- **Share of energy from renewable sources**\n",
    "- **Source:** https://ec.europa.eu/eurostat/databrowser/view/nrg_ind_ren/default/table?lang=en"
   ]
  },
  {
   "cell_type": "markdown",
   "id": "711f7fcb-2b15-4c63-8191-283b8c1ba8f0",
   "metadata": {},
   "source": [
    "## Imports"
   ]
  },
  {
   "cell_type": "code",
   "execution_count": 2,
   "id": "e9eebd26-1982-49bf-a51a-48d4d107e0ea",
   "metadata": {},
   "outputs": [],
   "source": [
    "import os\n",
    "import json\n",
    "import pandas as pd\n",
    "import geopandas as gpd\n",
    "import plotly.graph_objects as go\n",
    "from plotly.colors import sample_colorscale\n",
    "import plotly.express as px\n",
    "import plotly.io as pio\n",
    "import panel as pn"
   ]
  },
  {
   "cell_type": "markdown",
   "id": "e25e354a-de35-4cc4-9755-3ecd42babd56",
   "metadata": {},
   "source": [
    "## Settings"
   ]
  },
  {
   "cell_type": "markdown",
   "id": "fb42bf56-c90b-47d7-adf0-d8008d5b3ffd",
   "metadata": {},
   "source": [
    "### Panel Extension"
   ]
  },
  {
   "cell_type": "code",
   "execution_count": 3,
   "id": "c847dbd7-aa2e-4acf-82ff-7ef32b14672d",
   "metadata": {},
   "outputs": [
    {
     "data": {
      "text/html": [
       "<script type=\"esms-options\">{\"shimMode\": true}</script><style>*[data-root-id],\n",
       "*[data-root-id] > * {\n",
       "  box-sizing: border-box;\n",
       "  font-family: var(--jp-ui-font-family);\n",
       "  font-size: var(--jp-ui-font-size1);\n",
       "  color: var(--vscode-editor-foreground, var(--jp-ui-font-color1));\n",
       "}\n",
       "\n",
       "/* Override VSCode background color */\n",
       ".cell-output-ipywidget-background:has(\n",
       "    > .cell-output-ipywidget-background > .lm-Widget > *[data-root-id]\n",
       "  ),\n",
       ".cell-output-ipywidget-background:has(> .lm-Widget > *[data-root-id]) {\n",
       "  background-color: transparent !important;\n",
       "}\n",
       "</style>"
      ]
     },
     "metadata": {},
     "output_type": "display_data"
    },
    {
     "data": {
      "application/javascript": "(function(root) {\n  function now() {\n    return new Date();\n  }\n\n  const force = true;\n  const py_version = '3.7.3'.replace('rc', '-rc.').replace('.dev', '-dev.');\n  const reloading = false;\n  const Bokeh = root.Bokeh;\n\n  // Set a timeout for this load but only if we are not already initializing\n  if (typeof (root._bokeh_timeout) === \"undefined\" || (force || !root._bokeh_is_initializing)) {\n    root._bokeh_timeout = Date.now() + 5000;\n    root._bokeh_failed_load = false;\n  }\n\n  function run_callbacks() {\n    try {\n      root._bokeh_onload_callbacks.forEach(function(callback) {\n        if (callback != null)\n          callback();\n      });\n    } finally {\n      delete root._bokeh_onload_callbacks;\n    }\n    console.debug(\"Bokeh: all callbacks have finished\");\n  }\n\n  function load_libs(css_urls, js_urls, js_modules, js_exports, callback) {\n    if (css_urls == null) css_urls = [];\n    if (js_urls == null) js_urls = [];\n    if (js_modules == null) js_modules = [];\n    if (js_exports == null) js_exports = {};\n\n    root._bokeh_onload_callbacks.push(callback);\n\n    if (root._bokeh_is_loading > 0) {\n      // Don't load bokeh if it is still initializing\n      console.debug(\"Bokeh: BokehJS is being loaded, scheduling callback at\", now());\n      return null;\n    } else if (js_urls.length === 0 && js_modules.length === 0 && Object.keys(js_exports).length === 0) {\n      // There is nothing to load\n      run_callbacks();\n      return null;\n    }\n\n    function on_load() {\n      root._bokeh_is_loading--;\n      if (root._bokeh_is_loading === 0) {\n        console.debug(\"Bokeh: all BokehJS libraries/stylesheets loaded\");\n        run_callbacks()\n      }\n    }\n    window._bokeh_on_load = on_load\n\n    function on_error(e) {\n      const src_el = e.srcElement\n      console.error(\"failed to load \" + (src_el.href || src_el.src));\n    }\n\n    const skip = [];\n    if (window.requirejs) {\n      window.requirejs.config({'packages': {}, 'paths': {'tabulator': 'https://cdn.jsdelivr.net/npm/tabulator-tables@6.3.1/dist/js/tabulator.min', 'moment': 'https://cdn.jsdelivr.net/npm/luxon/build/global/luxon.min', 'plotly': 'https://cdn.plot.ly/plotly-3.0.1.min'}, 'shim': {}});\n      require([\"tabulator\"], function(Tabulator) {\n        window.Tabulator = Tabulator\n        on_load()\n      })\n      require([\"moment\"], function(moment) {\n        window.moment = moment\n        on_load()\n      })\n      require([\"plotly\"], function(Plotly) {\n        window.Plotly = Plotly\n        on_load()\n      })\n      root._bokeh_is_loading = css_urls.length + 3;\n    } else {\n      root._bokeh_is_loading = css_urls.length + js_urls.length + js_modules.length + Object.keys(js_exports).length;\n    }\n\n    const existing_stylesheets = []\n    const links = document.getElementsByTagName('link')\n    for (let i = 0; i < links.length; i++) {\n      const link = links[i]\n      if (link.href != null) {\n        existing_stylesheets.push(link.href)\n      }\n    }\n    for (let i = 0; i < css_urls.length; i++) {\n      const url = css_urls[i];\n      const escaped = encodeURI(url)\n      if (existing_stylesheets.indexOf(escaped) !== -1) {\n        on_load()\n        continue;\n      }\n      const element = document.createElement(\"link\");\n      element.onload = on_load;\n      element.onerror = on_error;\n      element.rel = \"stylesheet\";\n      element.type = \"text/css\";\n      element.href = url;\n      console.debug(\"Bokeh: injecting link tag for BokehJS stylesheet: \", url);\n      document.body.appendChild(element);\n    }    if (((window.Tabulator !== undefined) && (!(window.Tabulator instanceof HTMLElement))) || window.requirejs) {\n      var urls = ['https://cdn.holoviz.org/panel/1.7.0/dist/bundled/datatabulator/tabulator-tables@6.3.1/dist/js/tabulator.min.js'];\n      for (var i = 0; i < urls.length; i++) {\n        skip.push(encodeURI(urls[i]))\n      }\n    }    if (((window.moment !== undefined) && (!(window.moment instanceof HTMLElement))) || window.requirejs) {\n      var urls = ['https://cdn.holoviz.org/panel/1.7.0/dist/bundled/datatabulator/luxon/build/global/luxon.min.js'];\n      for (var i = 0; i < urls.length; i++) {\n        skip.push(encodeURI(urls[i]))\n      }\n    }    if (((window.Plotly !== undefined) && (!(window.Plotly instanceof HTMLElement))) || window.requirejs) {\n      var urls = [];\n      for (var i = 0; i < urls.length; i++) {\n        skip.push(encodeURI(urls[i]))\n      }\n    }    var existing_scripts = []\n    const scripts = document.getElementsByTagName('script')\n    for (let i = 0; i < scripts.length; i++) {\n      var script = scripts[i]\n      if (script.src != null) {\n        existing_scripts.push(script.src)\n      }\n    }\n    for (let i = 0; i < js_urls.length; i++) {\n      const url = js_urls[i];\n      const escaped = encodeURI(url)\n      if (skip.indexOf(escaped) !== -1 || existing_scripts.indexOf(escaped) !== -1) {\n        if (!window.requirejs) {\n          on_load();\n        }\n        continue;\n      }\n      const element = document.createElement('script');\n      element.onload = on_load;\n      element.onerror = on_error;\n      element.async = false;\n      element.src = url;\n      console.debug(\"Bokeh: injecting script tag for BokehJS library: \", url);\n      document.head.appendChild(element);\n    }\n    for (let i = 0; i < js_modules.length; i++) {\n      const url = js_modules[i];\n      const escaped = encodeURI(url)\n      if (skip.indexOf(escaped) !== -1 || existing_scripts.indexOf(escaped) !== -1) {\n        if (!window.requirejs) {\n          on_load();\n        }\n        continue;\n      }\n      var element = document.createElement('script');\n      element.onload = on_load;\n      element.onerror = on_error;\n      element.async = false;\n      element.src = url;\n      element.type = \"module\";\n      console.debug(\"Bokeh: injecting script tag for BokehJS library: \", url);\n      document.head.appendChild(element);\n    }\n    for (const name in js_exports) {\n      const url = js_exports[name];\n      const escaped = encodeURI(url)\n      if (skip.indexOf(escaped) >= 0 || root[name] != null) {\n        if (!window.requirejs) {\n          on_load();\n        }\n        continue;\n      }\n      var element = document.createElement('script');\n      element.onerror = on_error;\n      element.async = false;\n      element.type = \"module\";\n      console.debug(\"Bokeh: injecting script tag for BokehJS library: \", url);\n      element.textContent = `\n      import ${name} from \"${url}\"\n      window.${name} = ${name}\n      window._bokeh_on_load()\n      `\n      document.head.appendChild(element);\n    }\n    if (!js_urls.length && !js_modules.length) {\n      on_load()\n    }\n  };\n\n  function inject_raw_css(css) {\n    const element = document.createElement(\"style\");\n    element.appendChild(document.createTextNode(css));\n    document.body.appendChild(element);\n  }\n\n  const js_urls = [\"https://cdn.holoviz.org/panel/1.7.0/dist/bundled/reactiveesm/es-module-shims@^1.10.0/dist/es-module-shims.min.js\", \"https://cdn.holoviz.org/panel/1.7.0/dist/bundled/plotlyplot/plotly-3.0.1.min.js\", \"https://cdn.holoviz.org/panel/1.7.0/dist/bundled/datatabulator/tabulator-tables@6.3.1/dist/js/tabulator.min.js\", \"https://cdn.holoviz.org/panel/1.7.0/dist/bundled/datatabulator/luxon/build/global/luxon.min.js\", \"https://cdn.bokeh.org/bokeh/release/bokeh-3.7.3.min.js\", \"https://cdn.bokeh.org/bokeh/release/bokeh-gl-3.7.3.min.js\", \"https://cdn.bokeh.org/bokeh/release/bokeh-widgets-3.7.3.min.js\", \"https://cdn.bokeh.org/bokeh/release/bokeh-tables-3.7.3.min.js\", \"https://cdn.holoviz.org/panel/1.7.0/dist/bundled/material-components-web@7.0.0/dist/material-components-web.min.js\", \"https://cdn.holoviz.org/panel/1.7.0/dist/panel.min.js\"];\n  const js_modules = [];\n  const js_exports = {};\n  const css_urls = [\"https://cdn.holoviz.org/panel/1.7.0/dist/bundled/plotlyplot/maplibre-gl@4.4.1/dist/maplibre-gl.css?v=1.7.0\", \"https://cdn.holoviz.org/panel/1.7.0/dist/bundled/datatabulator/tabulator-tables@6.3.1/dist/css/tabulator_simple.min.css?v=1.7.0\", \"https://fonts.googleapis.com/css?family=Roboto:300,400,500\", \"https://fonts.googleapis.com/css?family=Material+Icons&display=block\"];\n  const inline_js = [    function(Bokeh) {\n      Bokeh.set_log_level(\"info\");\n    },\nfunction(Bokeh) {} // ensure no trailing comma for IE\n  ];\n\n  function run_inline_js() {\n    if ((root.Bokeh !== undefined) || (force === true)) {\n      for (let i = 0; i < inline_js.length; i++) {\n        try {\n          inline_js[i].call(root, root.Bokeh);\n        } catch(e) {\n          if (!reloading) {\n            throw e;\n          }\n        }\n      }\n      // Cache old bokeh versions\n      if (Bokeh != undefined && !reloading) {\n        var NewBokeh = root.Bokeh;\n        if (Bokeh.versions === undefined) {\n          Bokeh.versions = new Map();\n        }\n        if (NewBokeh.version !== Bokeh.version) {\n          Bokeh.versions.set(NewBokeh.version, NewBokeh)\n        }\n        root.Bokeh = Bokeh;\n      }\n    } else if (Date.now() < root._bokeh_timeout) {\n      setTimeout(run_inline_js, 100);\n    } else if (!root._bokeh_failed_load) {\n      console.log(\"Bokeh: BokehJS failed to load within specified timeout.\");\n      root._bokeh_failed_load = true;\n    }\n    root._bokeh_is_initializing = false\n  }\n\n  function load_or_wait() {\n    // Implement a backoff loop that tries to ensure we do not load multiple\n    // versions of Bokeh and its dependencies at the same time.\n    // In recent versions we use the root._bokeh_is_initializing flag\n    // to determine whether there is an ongoing attempt to initialize\n    // bokeh, however for backward compatibility we also try to ensure\n    // that we do not start loading a newer (Panel>=1.0 and Bokeh>3) version\n    // before older versions are fully initialized.\n    if (root._bokeh_is_initializing && Date.now() > root._bokeh_timeout) {\n      // If the timeout and bokeh was not successfully loaded we reset\n      // everything and try loading again\n      root._bokeh_timeout = Date.now() + 5000;\n      root._bokeh_is_initializing = false;\n      root._bokeh_onload_callbacks = undefined;\n      root._bokeh_is_loading = 0\n      console.log(\"Bokeh: BokehJS was loaded multiple times but one version failed to initialize.\");\n      load_or_wait();\n    } else if (root._bokeh_is_initializing || (typeof root._bokeh_is_initializing === \"undefined\" && root._bokeh_onload_callbacks !== undefined)) {\n      setTimeout(load_or_wait, 100);\n    } else {\n      root._bokeh_is_initializing = true\n      root._bokeh_onload_callbacks = []\n      const bokeh_loaded = root.Bokeh != null && (root.Bokeh.version === py_version || (root.Bokeh.versions !== undefined && root.Bokeh.versions.has(py_version)));\n      if (!reloading && !bokeh_loaded) {\n        if (root.Bokeh) {\n          root.Bokeh = undefined;\n        }\n        console.debug(\"Bokeh: BokehJS not loaded, scheduling load and callback at\", now());\n      }\n      load_libs(css_urls, js_urls, js_modules, js_exports, function() {\n        console.debug(\"Bokeh: BokehJS plotting callback run at\", now());\n        run_inline_js();\n      });\n    }\n  }\n  // Give older versions of the autoload script a head-start to ensure\n  // they initialize before we start loading newer version.\n  setTimeout(load_or_wait, 100)\n}(window));",
      "application/vnd.holoviews_load.v0+json": ""
     },
     "metadata": {},
     "output_type": "display_data"
    },
    {
     "data": {
      "application/javascript": "\nif ((window.PyViz === undefined) || (window.PyViz instanceof HTMLElement)) {\n  window.PyViz = {comms: {}, comm_status:{}, kernels:{}, receivers: {}, plot_index: []}\n}\n\n\n    function JupyterCommManager() {\n    }\n\n    JupyterCommManager.prototype.register_target = function(plot_id, comm_id, msg_handler) {\n      if (window.comm_manager || ((window.Jupyter !== undefined) && (Jupyter.notebook.kernel != null))) {\n        var comm_manager = window.comm_manager || Jupyter.notebook.kernel.comm_manager;\n        comm_manager.register_target(comm_id, function(comm) {\n          comm.on_msg(msg_handler);\n        });\n      } else if ((plot_id in window.PyViz.kernels) && (window.PyViz.kernels[plot_id])) {\n        window.PyViz.kernels[plot_id].registerCommTarget(comm_id, function(comm) {\n          comm.onMsg = msg_handler;\n        });\n      } else if (typeof google != 'undefined' && google.colab.kernel != null) {\n        google.colab.kernel.comms.registerTarget(comm_id, (comm) => {\n          var messages = comm.messages[Symbol.asyncIterator]();\n          function processIteratorResult(result) {\n            var message = result.value;\n            console.log(message)\n            var content = {data: message.data, comm_id};\n            var buffers = []\n            for (var buffer of message.buffers || []) {\n              buffers.push(new DataView(buffer))\n            }\n            var metadata = message.metadata || {};\n            var msg = {content, buffers, metadata}\n            msg_handler(msg);\n            return messages.next().then(processIteratorResult);\n          }\n          return messages.next().then(processIteratorResult);\n        })\n      }\n    }\n\n    JupyterCommManager.prototype.get_client_comm = function(plot_id, comm_id, msg_handler) {\n      if (comm_id in window.PyViz.comms) {\n        return window.PyViz.comms[comm_id];\n      } else if (window.comm_manager || ((window.Jupyter !== undefined) && (Jupyter.notebook.kernel != null))) {\n        var comm_manager = window.comm_manager || Jupyter.notebook.kernel.comm_manager;\n        var comm = comm_manager.new_comm(comm_id, {}, {}, {}, comm_id);\n        if (msg_handler) {\n          comm.on_msg(msg_handler);\n        }\n      } else if ((plot_id in window.PyViz.kernels) && (window.PyViz.kernels[plot_id])) {\n        var comm = window.PyViz.kernels[plot_id].connectToComm(comm_id);\n        comm.open();\n        if (msg_handler) {\n          comm.onMsg = msg_handler;\n        }\n      } else if (typeof google != 'undefined' && google.colab.kernel != null) {\n        var comm_promise = google.colab.kernel.comms.open(comm_id)\n        comm_promise.then((comm) => {\n          window.PyViz.comms[comm_id] = comm;\n          if (msg_handler) {\n            var messages = comm.messages[Symbol.asyncIterator]();\n            function processIteratorResult(result) {\n              var message = result.value;\n              var content = {data: message.data};\n              var metadata = message.metadata || {comm_id};\n              var msg = {content, metadata}\n              msg_handler(msg);\n              return messages.next().then(processIteratorResult);\n            }\n            return messages.next().then(processIteratorResult);\n          }\n        })\n        var sendClosure = (data, metadata, buffers, disposeOnDone) => {\n          return comm_promise.then((comm) => {\n            comm.send(data, metadata, buffers, disposeOnDone);\n          });\n        };\n        var comm = {\n          send: sendClosure\n        };\n      }\n      window.PyViz.comms[comm_id] = comm;\n      return comm;\n    }\n    window.PyViz.comm_manager = new JupyterCommManager();\n    \n\n\nvar JS_MIME_TYPE = 'application/javascript';\nvar HTML_MIME_TYPE = 'text/html';\nvar EXEC_MIME_TYPE = 'application/vnd.holoviews_exec.v0+json';\nvar CLASS_NAME = 'output';\n\n/**\n * Render data to the DOM node\n */\nfunction render(props, node) {\n  var div = document.createElement(\"div\");\n  var script = document.createElement(\"script\");\n  node.appendChild(div);\n  node.appendChild(script);\n}\n\n/**\n * Handle when a new output is added\n */\nfunction handle_add_output(event, handle) {\n  var output_area = handle.output_area;\n  var output = handle.output;\n  if ((output.data == undefined) || (!output.data.hasOwnProperty(EXEC_MIME_TYPE))) {\n    return\n  }\n  var id = output.metadata[EXEC_MIME_TYPE][\"id\"];\n  var toinsert = output_area.element.find(\".\" + CLASS_NAME.split(' ')[0]);\n  if (id !== undefined) {\n    var nchildren = toinsert.length;\n    var html_node = toinsert[nchildren-1].children[0];\n    html_node.innerHTML = output.data[HTML_MIME_TYPE];\n    var scripts = [];\n    var nodelist = html_node.querySelectorAll(\"script\");\n    for (var i in nodelist) {\n      if (nodelist.hasOwnProperty(i)) {\n        scripts.push(nodelist[i])\n      }\n    }\n\n    scripts.forEach( function (oldScript) {\n      var newScript = document.createElement(\"script\");\n      var attrs = [];\n      var nodemap = oldScript.attributes;\n      for (var j in nodemap) {\n        if (nodemap.hasOwnProperty(j)) {\n          attrs.push(nodemap[j])\n        }\n      }\n      attrs.forEach(function(attr) { newScript.setAttribute(attr.name, attr.value) });\n      newScript.appendChild(document.createTextNode(oldScript.innerHTML));\n      oldScript.parentNode.replaceChild(newScript, oldScript);\n    });\n    if (JS_MIME_TYPE in output.data) {\n      toinsert[nchildren-1].children[1].textContent = output.data[JS_MIME_TYPE];\n    }\n    output_area._hv_plot_id = id;\n    if ((window.Bokeh !== undefined) && (id in Bokeh.index)) {\n      window.PyViz.plot_index[id] = Bokeh.index[id];\n    } else {\n      window.PyViz.plot_index[id] = null;\n    }\n  } else if (output.metadata[EXEC_MIME_TYPE][\"server_id\"] !== undefined) {\n    var bk_div = document.createElement(\"div\");\n    bk_div.innerHTML = output.data[HTML_MIME_TYPE];\n    var script_attrs = bk_div.children[0].attributes;\n    for (var i = 0; i < script_attrs.length; i++) {\n      toinsert[toinsert.length - 1].childNodes[1].setAttribute(script_attrs[i].name, script_attrs[i].value);\n    }\n    // store reference to server id on output_area\n    output_area._bokeh_server_id = output.metadata[EXEC_MIME_TYPE][\"server_id\"];\n  }\n}\n\n/**\n * Handle when an output is cleared or removed\n */\nfunction handle_clear_output(event, handle) {\n  var id = handle.cell.output_area._hv_plot_id;\n  var server_id = handle.cell.output_area._bokeh_server_id;\n  if (((id === undefined) || !(id in PyViz.plot_index)) && (server_id !== undefined)) { return; }\n  var comm = window.PyViz.comm_manager.get_client_comm(\"hv-extension-comm\", \"hv-extension-comm\", function () {});\n  if (server_id !== null) {\n    comm.send({event_type: 'server_delete', 'id': server_id});\n    return;\n  } else if (comm !== null) {\n    comm.send({event_type: 'delete', 'id': id});\n  }\n  delete PyViz.plot_index[id];\n  if ((window.Bokeh !== undefined) & (id in window.Bokeh.index)) {\n    var doc = window.Bokeh.index[id].model.document\n    doc.clear();\n    const i = window.Bokeh.documents.indexOf(doc);\n    if (i > -1) {\n      window.Bokeh.documents.splice(i, 1);\n    }\n  }\n}\n\n/**\n * Handle kernel restart event\n */\nfunction handle_kernel_cleanup(event, handle) {\n  delete PyViz.comms[\"hv-extension-comm\"];\n  window.PyViz.plot_index = {}\n}\n\n/**\n * Handle update_display_data messages\n */\nfunction handle_update_output(event, handle) {\n  handle_clear_output(event, {cell: {output_area: handle.output_area}})\n  handle_add_output(event, handle)\n}\n\nfunction register_renderer(events, OutputArea) {\n  function append_mime(data, metadata, element) {\n    // create a DOM node to render to\n    var toinsert = this.create_output_subarea(\n    metadata,\n    CLASS_NAME,\n    EXEC_MIME_TYPE\n    );\n    this.keyboard_manager.register_events(toinsert);\n    // Render to node\n    var props = {data: data, metadata: metadata[EXEC_MIME_TYPE]};\n    render(props, toinsert[0]);\n    element.append(toinsert);\n    return toinsert\n  }\n\n  events.on('output_added.OutputArea', handle_add_output);\n  events.on('output_updated.OutputArea', handle_update_output);\n  events.on('clear_output.CodeCell', handle_clear_output);\n  events.on('delete.Cell', handle_clear_output);\n  events.on('kernel_ready.Kernel', handle_kernel_cleanup);\n\n  OutputArea.prototype.register_mime_type(EXEC_MIME_TYPE, append_mime, {\n    safe: true,\n    index: 0\n  });\n}\n\nif (window.Jupyter !== undefined) {\n  try {\n    var events = require('base/js/events');\n    var OutputArea = require('notebook/js/outputarea').OutputArea;\n    if (OutputArea.prototype.mime_types().indexOf(EXEC_MIME_TYPE) == -1) {\n      register_renderer(events, OutputArea);\n    }\n  } catch(err) {\n  }\n}\n",
      "application/vnd.holoviews_load.v0+json": ""
     },
     "metadata": {},
     "output_type": "display_data"
    },
    {
     "data": {
      "application/vnd.holoviews_exec.v0+json": "",
      "text/html": [
       "<div id='435634a4-863f-4fd1-a8c4-b50f5965dbb8'>\n",
       "  <div id=\"af6b6af8-1745-45b1-bf62-695e3a093398\" data-root-id=\"435634a4-863f-4fd1-a8c4-b50f5965dbb8\" style=\"display: contents;\"></div>\n",
       "</div>\n",
       "<script type=\"application/javascript\">(function(root) {\n",
       "  var docs_json = {\"53aadf21-a547-4619-b27f-ddd6ff6d7f08\":{\"version\":\"3.7.3\",\"title\":\"Bokeh Application\",\"roots\":[{\"type\":\"object\",\"name\":\"panel.models.browser.BrowserInfo\",\"id\":\"435634a4-863f-4fd1-a8c4-b50f5965dbb8\"},{\"type\":\"object\",\"name\":\"panel.models.comm_manager.CommManager\",\"id\":\"1f3a2eba-c786-4946-a855-1c6b6d2c0161\",\"attributes\":{\"plot_id\":\"435634a4-863f-4fd1-a8c4-b50f5965dbb8\",\"comm_id\":\"02efa8e03f8043e69f0f69e1506dd5ce\",\"client_comm_id\":\"79ffbf7b14284906afdf3ea7e2809e5b\"}}],\"defs\":[{\"type\":\"model\",\"name\":\"ReactiveHTML1\"},{\"type\":\"model\",\"name\":\"FlexBox1\",\"properties\":[{\"name\":\"align_content\",\"kind\":\"Any\",\"default\":\"flex-start\"},{\"name\":\"align_items\",\"kind\":\"Any\",\"default\":\"flex-start\"},{\"name\":\"flex_direction\",\"kind\":\"Any\",\"default\":\"row\"},{\"name\":\"flex_wrap\",\"kind\":\"Any\",\"default\":\"wrap\"},{\"name\":\"gap\",\"kind\":\"Any\",\"default\":\"\"},{\"name\":\"justify_content\",\"kind\":\"Any\",\"default\":\"flex-start\"}]},{\"type\":\"model\",\"name\":\"FloatPanel1\",\"properties\":[{\"name\":\"config\",\"kind\":\"Any\",\"default\":{\"type\":\"map\"}},{\"name\":\"contained\",\"kind\":\"Any\",\"default\":true},{\"name\":\"position\",\"kind\":\"Any\",\"default\":\"right-top\"},{\"name\":\"offsetx\",\"kind\":\"Any\",\"default\":null},{\"name\":\"offsety\",\"kind\":\"Any\",\"default\":null},{\"name\":\"theme\",\"kind\":\"Any\",\"default\":\"primary\"},{\"name\":\"status\",\"kind\":\"Any\",\"default\":\"normalized\"}]},{\"type\":\"model\",\"name\":\"GridStack1\",\"properties\":[{\"name\":\"ncols\",\"kind\":\"Any\",\"default\":null},{\"name\":\"nrows\",\"kind\":\"Any\",\"default\":null},{\"name\":\"allow_resize\",\"kind\":\"Any\",\"default\":true},{\"name\":\"allow_drag\",\"kind\":\"Any\",\"default\":true},{\"name\":\"state\",\"kind\":\"Any\",\"default\":[]}]},{\"type\":\"model\",\"name\":\"drag1\",\"properties\":[{\"name\":\"slider_width\",\"kind\":\"Any\",\"default\":5},{\"name\":\"slider_color\",\"kind\":\"Any\",\"default\":\"black\"},{\"name\":\"value\",\"kind\":\"Any\",\"default\":50}]},{\"type\":\"model\",\"name\":\"click1\",\"properties\":[{\"name\":\"terminal_output\",\"kind\":\"Any\",\"default\":\"\"},{\"name\":\"debug_name\",\"kind\":\"Any\",\"default\":\"\"},{\"name\":\"clears\",\"kind\":\"Any\",\"default\":0}]},{\"type\":\"model\",\"name\":\"FastWrapper1\",\"properties\":[{\"name\":\"object\",\"kind\":\"Any\",\"default\":null},{\"name\":\"style\",\"kind\":\"Any\",\"default\":null}]},{\"type\":\"model\",\"name\":\"NotificationArea1\",\"properties\":[{\"name\":\"js_events\",\"kind\":\"Any\",\"default\":{\"type\":\"map\"}},{\"name\":\"max_notifications\",\"kind\":\"Any\",\"default\":5},{\"name\":\"notifications\",\"kind\":\"Any\",\"default\":[]},{\"name\":\"position\",\"kind\":\"Any\",\"default\":\"bottom-right\"},{\"name\":\"_clear\",\"kind\":\"Any\",\"default\":0},{\"name\":\"types\",\"kind\":\"Any\",\"default\":[{\"type\":\"map\",\"entries\":[[\"type\",\"warning\"],[\"background\",\"#ffc107\"],[\"icon\",{\"type\":\"map\",\"entries\":[[\"className\",\"fas fa-exclamation-triangle\"],[\"tagName\",\"i\"],[\"color\",\"white\"]]}]]},{\"type\":\"map\",\"entries\":[[\"type\",\"info\"],[\"background\",\"#007bff\"],[\"icon\",{\"type\":\"map\",\"entries\":[[\"className\",\"fas fa-info-circle\"],[\"tagName\",\"i\"],[\"color\",\"white\"]]}]]}]}]},{\"type\":\"model\",\"name\":\"Notification\",\"properties\":[{\"name\":\"background\",\"kind\":\"Any\",\"default\":null},{\"name\":\"duration\",\"kind\":\"Any\",\"default\":3000},{\"name\":\"icon\",\"kind\":\"Any\",\"default\":null},{\"name\":\"message\",\"kind\":\"Any\",\"default\":\"\"},{\"name\":\"notification_type\",\"kind\":\"Any\",\"default\":null},{\"name\":\"_rendered\",\"kind\":\"Any\",\"default\":false},{\"name\":\"_destroyed\",\"kind\":\"Any\",\"default\":false}]},{\"type\":\"model\",\"name\":\"TemplateActions1\",\"properties\":[{\"name\":\"open_modal\",\"kind\":\"Any\",\"default\":0},{\"name\":\"close_modal\",\"kind\":\"Any\",\"default\":0}]},{\"type\":\"model\",\"name\":\"BootstrapTemplateActions1\",\"properties\":[{\"name\":\"open_modal\",\"kind\":\"Any\",\"default\":0},{\"name\":\"close_modal\",\"kind\":\"Any\",\"default\":0}]},{\"type\":\"model\",\"name\":\"TemplateEditor1\",\"properties\":[{\"name\":\"layout\",\"kind\":\"Any\",\"default\":[]}]},{\"type\":\"model\",\"name\":\"MaterialTemplateActions1\",\"properties\":[{\"name\":\"open_modal\",\"kind\":\"Any\",\"default\":0},{\"name\":\"close_modal\",\"kind\":\"Any\",\"default\":0}]},{\"type\":\"model\",\"name\":\"ReactiveESM1\",\"properties\":[{\"name\":\"esm_constants\",\"kind\":\"Any\",\"default\":{\"type\":\"map\"}}]},{\"type\":\"model\",\"name\":\"JSComponent1\",\"properties\":[{\"name\":\"esm_constants\",\"kind\":\"Any\",\"default\":{\"type\":\"map\"}}]},{\"type\":\"model\",\"name\":\"ReactComponent1\",\"properties\":[{\"name\":\"esm_constants\",\"kind\":\"Any\",\"default\":{\"type\":\"map\"}}]},{\"type\":\"model\",\"name\":\"AnyWidgetComponent1\",\"properties\":[{\"name\":\"esm_constants\",\"kind\":\"Any\",\"default\":{\"type\":\"map\"}}]},{\"type\":\"model\",\"name\":\"request_value1\",\"properties\":[{\"name\":\"fill\",\"kind\":\"Any\",\"default\":\"none\"},{\"name\":\"_synced\",\"kind\":\"Any\",\"default\":null},{\"name\":\"_request_sync\",\"kind\":\"Any\",\"default\":0}]}]}};\n",
       "  var render_items = [{\"docid\":\"53aadf21-a547-4619-b27f-ddd6ff6d7f08\",\"roots\":{\"435634a4-863f-4fd1-a8c4-b50f5965dbb8\":\"af6b6af8-1745-45b1-bf62-695e3a093398\"},\"root_ids\":[\"435634a4-863f-4fd1-a8c4-b50f5965dbb8\"]}];\n",
       "  var docs = Object.values(docs_json)\n",
       "  if (!docs) {\n",
       "    return\n",
       "  }\n",
       "  const py_version = docs[0].version.replace('rc', '-rc.').replace('.dev', '-dev.')\n",
       "  async function embed_document(root) {\n",
       "    var Bokeh = get_bokeh(root)\n",
       "    await Bokeh.embed.embed_items_notebook(docs_json, render_items);\n",
       "    for (const render_item of render_items) {\n",
       "      for (const root_id of render_item.root_ids) {\n",
       "\tconst id_el = document.getElementById(root_id)\n",
       "\tif (id_el.children.length && id_el.children[0].hasAttribute('data-root-id')) {\n",
       "\t  const root_el = id_el.children[0]\n",
       "\t  root_el.id = root_el.id + '-rendered'\n",
       "\t  for (const child of root_el.children) {\n",
       "            // Ensure JupyterLab does not capture keyboard shortcuts\n",
       "            // see: https://jupyterlab.readthedocs.io/en/4.1.x/extension/notebook.html#keyboard-interaction-model\n",
       "\t    child.setAttribute('data-lm-suppress-shortcuts', 'true')\n",
       "\t  }\n",
       "\t}\n",
       "      }\n",
       "    }\n",
       "  }\n",
       "  function get_bokeh(root) {\n",
       "    if (root.Bokeh === undefined) {\n",
       "      return null\n",
       "    } else if (root.Bokeh.version !== py_version) {\n",
       "      if (root.Bokeh.versions === undefined || !root.Bokeh.versions.has(py_version)) {\n",
       "\treturn null\n",
       "      }\n",
       "      return root.Bokeh.versions.get(py_version);\n",
       "    } else if (root.Bokeh.version === py_version) {\n",
       "      return root.Bokeh\n",
       "    }\n",
       "    return null\n",
       "  }\n",
       "  function is_loaded(root) {\n",
       "    var Bokeh = get_bokeh(root)\n",
       "    return (Bokeh != null && Bokeh.Panel !== undefined && ( root.Tabulator !== undefined) && ( root.Plotly !== undefined) && ( root.Tabulator !== undefined) && ( root.Plotly !== undefined))\n",
       "  }\n",
       "  if (is_loaded(root)) {\n",
       "    embed_document(root);\n",
       "  } else {\n",
       "    var attempts = 0;\n",
       "    var timer = setInterval(function(root) {\n",
       "      if (is_loaded(root)) {\n",
       "        clearInterval(timer);\n",
       "        embed_document(root);\n",
       "      } else if (document.readyState == \"complete\") {\n",
       "        attempts++;\n",
       "        if (attempts > 200) {\n",
       "          clearInterval(timer);\n",
       "\t  var Bokeh = get_bokeh(root)\n",
       "\t  if (Bokeh == null || Bokeh.Panel == null) {\n",
       "            console.warn(\"Panel: ERROR: Unable to run Panel code because Bokeh or Panel library is missing\");\n",
       "\t  } else {\n",
       "\t    console.warn(\"Panel: WARNING: Attempting to render but not all required libraries could be resolved.\")\n",
       "\t    embed_document(root)\n",
       "\t  }\n",
       "        }\n",
       "      }\n",
       "    }, 25, root)\n",
       "  }\n",
       "})(window);</script>"
      ]
     },
     "metadata": {
      "application/vnd.holoviews_exec.v0+json": {
       "id": "435634a4-863f-4fd1-a8c4-b50f5965dbb8"
      }
     },
     "output_type": "display_data"
    }
   ],
   "source": [
    "# Set up Panel extension\n",
    "pn.extension('tabulator', 'plotly', design='material', sizing_mode='stretch_width')"
   ]
  },
  {
   "cell_type": "markdown",
   "id": "79b08b02-9036-496b-9ba5-b96a48244c60",
   "metadata": {},
   "source": [
    "### Plotly Renderer"
   ]
  },
  {
   "cell_type": "code",
   "execution_count": 4,
   "id": "aff668f3-fe58-4e40-a998-5c653b29349a",
   "metadata": {},
   "outputs": [],
   "source": [
    "# Set Plotly renderer to JupyterLab\n",
    "# pio.renderers.default = \"jupyterlab\""
   ]
  },
  {
   "cell_type": "markdown",
   "id": "92b3d846-03b4-43cd-ab87-0b66e11f55e1",
   "metadata": {},
   "source": [
    "### MapBox"
   ]
  },
  {
   "cell_type": "code",
   "execution_count": 5,
   "id": "3cfd7aef-c4ec-46d4-9a3f-3fc82cdc7196",
   "metadata": {},
   "outputs": [],
   "source": [
    "# Set MapBox-Access-Token\n",
    "mapbox_token = 'pk.eyJ1Ijoia3VyYW5leiIsImEiOiJjbTJmMjI0d2kwNDVxMnFzYXNldnc1N2VsIn0.t11TYpF2QBdid-hQfW8mig'"
   ]
  },
  {
   "cell_type": "markdown",
   "id": "35348edb-e4b3-42b6-b41e-3378d9fb6b89",
   "metadata": {},
   "source": [
    "## Load & Format Data"
   ]
  },
  {
   "cell_type": "markdown",
   "id": "23f3cd5d-7553-4966-a48f-d7d86c47ee47",
   "metadata": {},
   "source": [
    "### Load EuroStat-Data"
   ]
  },
  {
   "cell_type": "code",
   "execution_count": 6,
   "id": "4470ee6d-a595-45ac-b0d7-8551ed7f9fa5",
   "metadata": {},
   "outputs": [],
   "source": [
    "# Load Data\n",
    "data = pd.read_csv('./data/nrg_ind_ren_linear.csv')"
   ]
  },
  {
   "cell_type": "code",
   "execution_count": 7,
   "id": "141af2cd-ee1a-4045-9816-2ae9e64d942f",
   "metadata": {},
   "outputs": [
    {
     "name": "stdout",
     "output_type": "stream",
     "text": [
      "<class 'pandas.core.frame.DataFrame'>\n",
      "RangeIndex: 2772 entries, 0 to 2771\n",
      "Data columns (total 9 columns):\n",
      " #   Column       Non-Null Count  Dtype  \n",
      "---  ------       --------------  -----  \n",
      " 0   DATAFLOW     2772 non-null   object \n",
      " 1   LAST UPDATE  2772 non-null   object \n",
      " 2   freq         2772 non-null   object \n",
      " 3   nrg_bal      2772 non-null   object \n",
      " 4   unit         2772 non-null   object \n",
      " 5   geo          2772 non-null   object \n",
      " 6   TIME_PERIOD  2772 non-null   int64  \n",
      " 7   OBS_VALUE    2772 non-null   float64\n",
      " 8   OBS_FLAG     0 non-null      float64\n",
      "dtypes: float64(2), int64(1), object(6)\n",
      "memory usage: 195.0+ KB\n"
     ]
    }
   ],
   "source": [
    "data.info()"
   ]
  },
  {
   "cell_type": "markdown",
   "id": "2ace1933-1433-4b58-b26f-77dac0d2c139",
   "metadata": {},
   "source": [
    "### Load GeoJSON"
   ]
  },
  {
   "cell_type": "code",
   "execution_count": 8,
   "id": "f502d4eb-e77f-41af-b328-3f58794fecb2",
   "metadata": {},
   "outputs": [],
   "source": [
    "# Load GeoJSON for European countries\n",
    "with open('europe.geojson') as f:\n",
    "    europe_map = json.load(f)"
   ]
  },
  {
   "cell_type": "markdown",
   "id": "b695cc10-d4af-4c20-9c73-aa8979019573",
   "metadata": {},
   "source": [
    "### Merge Data"
   ]
  },
  {
   "cell_type": "code",
   "execution_count": 9,
   "id": "99dd2832-db0e-421c-9bc0-c8ec8e2e1536",
   "metadata": {},
   "outputs": [],
   "source": [
    "# Merge energy data with map data\n",
    "merged_data = gpd.read_file('europe.geojson').merge(data, left_on='ISO2', right_on='geo')"
   ]
  },
  {
   "cell_type": "code",
   "execution_count": 10,
   "id": "9af8cc99-0092-44e7-9685-8e6f3adb80d7",
   "metadata": {},
   "outputs": [
    {
     "name": "stdout",
     "output_type": "stream",
     "text": [
      "<class 'geopandas.geodataframe.GeoDataFrame'>\n",
      "RangeIndex: 2544 entries, 0 to 2543\n",
      "Data columns (total 22 columns):\n",
      " #   Column       Non-Null Count  Dtype   \n",
      "---  ------       --------------  -----   \n",
      " 0   FID          2544 non-null   float64 \n",
      " 1   FIPS         2544 non-null   object  \n",
      " 2   ISO2         2544 non-null   object  \n",
      " 3   ISO3         2544 non-null   object  \n",
      " 4   UN           2544 non-null   int32   \n",
      " 5   NAME         2544 non-null   object  \n",
      " 6   AREA         2544 non-null   int32   \n",
      " 7   POP2005      2544 non-null   int32   \n",
      " 8   REGION       2544 non-null   int32   \n",
      " 9   SUBREGION    2544 non-null   int32   \n",
      " 10  LON          2544 non-null   float64 \n",
      " 11  LAT          2544 non-null   float64 \n",
      " 12  geometry     2544 non-null   geometry\n",
      " 13  DATAFLOW     2544 non-null   object  \n",
      " 14  LAST UPDATE  2544 non-null   object  \n",
      " 15  freq         2544 non-null   object  \n",
      " 16  nrg_bal      2544 non-null   object  \n",
      " 17  unit         2544 non-null   object  \n",
      " 18  geo          2544 non-null   object  \n",
      " 19  TIME_PERIOD  2544 non-null   int64   \n",
      " 20  OBS_VALUE    2544 non-null   float64 \n",
      " 21  OBS_FLAG     0 non-null      float64 \n",
      "dtypes: float64(5), geometry(1), int32(5), int64(1), object(10)\n",
      "memory usage: 387.7+ KB\n"
     ]
    }
   ],
   "source": [
    "merged_data.info()"
   ]
  },
  {
   "cell_type": "markdown",
   "id": "d388f092-14bc-438f-8a74-89b5f092ae96",
   "metadata": {},
   "source": [
    "### Clean Data"
   ]
  },
  {
   "cell_type": "code",
   "execution_count": 11,
   "id": "98c23a46-323e-48f0-a005-a392ad656a8a",
   "metadata": {},
   "outputs": [],
   "source": [
    "# Clean and rename columns for readability\n",
    "merged_data = merged_data.rename(columns={\n",
    "    'nrg_bal': 'Energy Type',\n",
    "    'TIME_PERIOD': 'Year',\n",
    "    'OBS_VALUE': 'Renewable Percentage',\n",
    "    'geo': 'Country Code',\n",
    "    'NAME': 'Country',\n",
    "})"
   ]
  },
  {
   "cell_type": "code",
   "execution_count": 12,
   "id": "96140749-a620-4ad1-8cc0-0446b5e7269a",
   "metadata": {},
   "outputs": [],
   "source": [
    "# Rename entries in 'Energy Type' column for clarity\n",
    "merged_data['Energy Type'] = merged_data['Energy Type'].replace({\n",
    "    'REN': 'Renewable Energy Total',\n",
    "    'REN_ELC': 'Renewable Electricity',\n",
    "    'REN_HEAT_CL': 'Renewable Heating and Cooling',\n",
    "    'REN_TRA': 'Renewable Energy in Transport'\n",
    "})"
   ]
  },
  {
   "cell_type": "code",
   "execution_count": 13,
   "id": "3c04dd12-d778-44f6-bdca-b4369a1e0277",
   "metadata": {},
   "outputs": [],
   "source": [
    "# Drop columns\n",
    "merged_data = merged_data.drop(columns=['LAST UPDATE', 'freq', 'unit', 'OBS_FLAG'])"
   ]
  },
  {
   "cell_type": "markdown",
   "id": "2f0d233d-764a-4fd4-a6b8-69fc33174ba3",
   "metadata": {},
   "source": [
    "### Data Conversion"
   ]
  },
  {
   "cell_type": "code",
   "execution_count": 14,
   "id": "5b9ce441-6fe6-4c5d-a259-9d6f712f7a8f",
   "metadata": {},
   "outputs": [],
   "source": [
    "# Convert to numeric\n",
    "merged_data[['Year', 'Renewable Percentage', 'AREA', 'POP2005']] = merged_data[['Year', 'Renewable Percentage', 'AREA', 'POP2005']].apply(pd.to_numeric)\n",
    "\n",
    "# Round the 'Renewable Percentage' to 1 decimal place\n",
    "merged_data['Renewable Percentage'] = merged_data['Renewable Percentage'].round(1)"
   ]
  },
  {
   "cell_type": "markdown",
   "id": "1ac00968-a461-439d-b07c-5c589a7594ec",
   "metadata": {},
   "source": [
    "### Add Country Flags"
   ]
  },
  {
   "cell_type": "code",
   "execution_count": 15,
   "id": "72595430-c326-4e34-915c-d0bf408ef2b4",
   "metadata": {},
   "outputs": [],
   "source": [
    "@pn.cache\n",
    "# Function to convert ISO2 country code to flag emoji\n",
    "def iso2_to_flag(iso2_code):\n",
    "    # Convert ISO2 code to country flag emoji using the formula\n",
    "    return chr(0x1F1E6 + ord(iso2_code[0]) - ord('A')) + chr(0x1F1E6 + ord(iso2_code[1]) - ord('A'))\n",
    "\n",
    "# Add a new column 'Country Flag' with the corresponding country flag emojis\n",
    "merged_data['Country Flag'] = merged_data['Country Code'].apply(iso2_to_flag)"
   ]
  },
  {
   "cell_type": "markdown",
   "id": "ed8503a1-140d-4849-b997-9da4b4133d1b",
   "metadata": {},
   "source": [
    "### Sort Columns"
   ]
  },
  {
   "cell_type": "code",
   "execution_count": 16,
   "id": "6f708c84-c8e4-484b-9f6f-1d7c460de41f",
   "metadata": {},
   "outputs": [],
   "source": [
    "# Reorder columns\n",
    "final_columns_order = [\n",
    "    'Country Code', 'Country Flag', 'Country', 'Energy Type', 'Renewable Percentage', 'Year',\n",
    "    'DATAFLOW', 'FID', 'FIPS', 'ISO2', 'ISO3', 'AREA', 'POP2005', 'REGION', 'SUBREGION', 'geometry'\n",
    "]"
   ]
  },
  {
   "cell_type": "markdown",
   "id": "073fcdc1-a262-48b6-a9af-7b0fe90837ee",
   "metadata": {},
   "source": [
    "### Final DataFrame"
   ]
  },
  {
   "cell_type": "code",
   "execution_count": 17,
   "id": "a4fe85ed-c2ea-41d9-b902-38491e2d3bd6",
   "metadata": {},
   "outputs": [],
   "source": [
    "merged_data_clean = merged_data[final_columns_order]"
   ]
  },
  {
   "cell_type": "code",
   "execution_count": 18,
   "id": "a4e9bf1b-585b-422c-8b4b-c1f1ff9fb87b",
   "metadata": {},
   "outputs": [
    {
     "name": "stdout",
     "output_type": "stream",
     "text": [
      "<class 'geopandas.geodataframe.GeoDataFrame'>\n",
      "RangeIndex: 2544 entries, 0 to 2543\n",
      "Data columns (total 16 columns):\n",
      " #   Column                Non-Null Count  Dtype   \n",
      "---  ------                --------------  -----   \n",
      " 0   Country Code          2544 non-null   object  \n",
      " 1   Country Flag          2544 non-null   object  \n",
      " 2   Country               2544 non-null   object  \n",
      " 3   Energy Type           2544 non-null   object  \n",
      " 4   Renewable Percentage  2544 non-null   float64 \n",
      " 5   Year                  2544 non-null   int64   \n",
      " 6   DATAFLOW              2544 non-null   object  \n",
      " 7   FID                   2544 non-null   float64 \n",
      " 8   FIPS                  2544 non-null   object  \n",
      " 9   ISO2                  2544 non-null   object  \n",
      " 10  ISO3                  2544 non-null   object  \n",
      " 11  AREA                  2544 non-null   int32   \n",
      " 12  POP2005               2544 non-null   int32   \n",
      " 13  REGION                2544 non-null   int32   \n",
      " 14  SUBREGION             2544 non-null   int32   \n",
      " 15  geometry              2544 non-null   geometry\n",
      "dtypes: float64(2), geometry(1), int32(4), int64(1), object(8)\n",
      "memory usage: 278.4+ KB\n"
     ]
    }
   ],
   "source": [
    "merged_data_clean.info()"
   ]
  },
  {
   "cell_type": "markdown",
   "id": "d0c9f354-9e85-4c7b-8107-4bb015be585e",
   "metadata": {},
   "source": [
    "### Explore DataFrame"
   ]
  },
  {
   "cell_type": "code",
   "execution_count": 19,
   "id": "08d31ed5-4f1e-4432-81d3-d1dda4b13360",
   "metadata": {},
   "outputs": [],
   "source": [
    "df_widget = pn.widgets.Tabulator(\n",
    "    merged_data_clean[['Country Code', 'Country Flag', 'Country', 'Renewable Percentage', 'Year', 'Energy Type']],\n",
    "    layout='fit_data_stretch',\n",
    "    pagination=\"remote\",            # Enable pagination, options: local, remote\n",
    "    page_size=10,                  # Set number of rows per page\n",
    "    show_index=False,              # Hide Index\n",
    "    configuration={\"movableColumns\": False},  # Disable column reordering\n",
    "\n",
    "    \n",
    ")"
   ]
  },
  {
   "cell_type": "code",
   "execution_count": 20,
   "id": "aa936f44-2ba5-4f47-bb4c-2a5e62b24a44",
   "metadata": {},
   "outputs": [
    {
     "data": {
      "application/vnd.jupyter.widget-view+json": {
       "model_id": "fdb47fa37a8442f58f373911292876a4",
       "version_major": 2,
       "version_minor": 0
      },
      "text/plain": [
       "BokehModel(combine_events=True, render_bundle={'docs_json': {'497b5fad-cf16-4ffe-9159-5e5ce85e6347': {'version…"
      ]
     },
     "execution_count": 20,
     "metadata": {},
     "output_type": "execute_result"
    }
   ],
   "source": [
    "df_widget"
   ]
  },
  {
   "cell_type": "markdown",
   "id": "789da01b-6523-417a-b134-b21523adad26",
   "metadata": {},
   "source": [
    "## List Countries & Energy Types"
   ]
  },
  {
   "cell_type": "markdown",
   "id": "6f723004-4232-402a-8550-9f93fc65ebd7",
   "metadata": {},
   "source": [
    "### All Countries"
   ]
  },
  {
   "cell_type": "code",
   "execution_count": 21,
   "id": "bfe08741-5a3f-4387-ae91-796b6ef0f5e7",
   "metadata": {},
   "outputs": [
    {
     "data": {
      "application/vnd.jupyter.widget-view+json": {
       "model_id": "47542b801a4643a09e6064e114126448",
       "version_major": 2,
       "version_minor": 0
      },
      "text/plain": [
       "BokehModel(combine_events=True, render_bundle={'docs_json': {'909eb64b-8846-4413-be76-23bfff7c9c17': {'version…"
      ]
     },
     "execution_count": 21,
     "metadata": {},
     "output_type": "execute_result"
    }
   ],
   "source": [
    "# Display list of countries\n",
    "countries_md = \"**Countries:**\\n\"\n",
    "for iso2, country in merged_data_clean[['Country Code', 'Country']].drop_duplicates().values:\n",
    "    countries_md += f\"- **{iso2}**: {country}\\n\"\n",
    "    \n",
    "countries_pane = pn.pane.Markdown(countries_md)\n",
    "\n",
    "countries_pane"
   ]
  },
  {
   "cell_type": "markdown",
   "id": "d88d5950-4844-4461-92d9-1bac25354c08",
   "metadata": {},
   "source": [
    "### EU-Countries"
   ]
  },
  {
   "cell_type": "code",
   "execution_count": 22,
   "id": "df6f2bc4-30de-460a-921f-f9899f102dbf",
   "metadata": {},
   "outputs": [
    {
     "data": {
      "application/vnd.jupyter.widget-view+json": {
       "model_id": "e6fa0c1b7c244411b56ac23dfd40f5c7",
       "version_major": 2,
       "version_minor": 0
      },
      "text/plain": [
       "BokehModel(combine_events=True, render_bundle={'docs_json': {'9bcd2d09-0a4e-4c4a-ab95-d207f32d8a68': {'version…"
      ]
     },
     "execution_count": 22,
     "metadata": {},
     "output_type": "execute_result"
    }
   ],
   "source": [
    "# EU countries filter\n",
    "eu_countries = [\n",
    "    \"AT\", \"BE\", \"BG\", \"HR\", \"CY\", \"CZ\", \"DK\", \"EE\", \"FI\", \"FR\", \"DE\", \"GR\", \"HU\", \"IE\", \"IT\", \"LV\", \"LT\", \n",
    "    \"LU\", \"MT\", \"NL\", \"PL\", \"PT\", \"RO\", \"SK\", \"SI\", \"ES\", \"SE\"\n",
    "]\n",
    "\n",
    "eu_data = merged_data_clean[merged_data_clean['Country Code'].isin(eu_countries)]\n",
    "\n",
    "eu_countries_md = \"**EU Countries:**\\n\"\n",
    "for iso2, country in eu_data[['Country Code', 'Country']].drop_duplicates().values:\n",
    "    eu_countries_md += f\"- **{iso2}**: {country}\\n\"\n",
    "\n",
    "eu_countries_pane = pn.pane.Markdown(eu_countries_md)\n",
    "\n",
    "eu_countries_pane"
   ]
  },
  {
   "cell_type": "markdown",
   "id": "34bfb765-9c7f-4e7c-996e-79fffd4b753a",
   "metadata": {},
   "source": [
    "### Display Energy Types"
   ]
  },
  {
   "cell_type": "code",
   "execution_count": 23,
   "id": "c61a8420-128c-432f-99c2-3dbe555b3b03",
   "metadata": {},
   "outputs": [
    {
     "name": "stdout",
     "output_type": "stream",
     "text": [
      "Energy Types: 4\n",
      "- Renewable Energy Total\n",
      "- Renewable Electricity\n",
      "- Renewable Heating and Cooling\n",
      "- Renewable Energy in Transport\n"
     ]
    }
   ],
   "source": [
    "# Display Energy Types\n",
    "energy_types = merged_data_clean['Energy Type'].unique()\n",
    "\n",
    "energy_types_list = \"\\n\".join([f\"- {value}\" for value in energy_types])\n",
    "\n",
    "print(f\"Energy Types: {len(energy_types)}\\n{energy_types_list}\")"
   ]
  },
  {
   "cell_type": "markdown",
   "id": "8ebcb1d6-8ccb-46d0-ad1d-2dda5ea8863d",
   "metadata": {},
   "source": [
    "## Filter Data to Display"
   ]
  },
  {
   "cell_type": "code",
   "execution_count": 24,
   "id": "b8cef5c1-ffa6-4c02-bd89-97812e08213b",
   "metadata": {},
   "outputs": [],
   "source": [
    "# Renewable Energy Total\n",
    "df_renewable = merged_data_clean[\n",
    "                                (merged_data_clean['Energy Type'] == 'Renewable Energy Total') &\n",
    "                                (merged_data_clean['Country Code'].isin(eu_countries))]\n",
    "\n",
    "# Year\n",
    "selected_year = 2022 # for testing/initial display\n",
    "df_year = df_renewable[df_renewable['Year'] == selected_year]\n",
    "\n",
    "# Country\n",
    "selected_country = \"Germany\" # for testing/iitial display\n",
    "df_country = df_renewable[df_renewable['Country'] == selected_country]\n",
    "\n",
    "# EU Total\n",
    "# - Group by year and calculate the average renewable energy percentage for the EU total\n",
    "df_eu_total = df_renewable.groupby('Year', as_index=False)['Renewable Percentage'].mean()"
   ]
  },
  {
   "cell_type": "markdown",
   "id": "6be1598f-e0a1-44bd-815c-161298e59857",
   "metadata": {},
   "source": [
    "## Dashboard Components"
   ]
  },
  {
   "cell_type": "markdown",
   "id": "1d62ff6a-d966-44fb-a8c0-e713a3957c84",
   "metadata": {},
   "source": [
    "### Input-Widgets"
   ]
  },
  {
   "cell_type": "markdown",
   "id": "a7903b27-dca5-4998-a308-c641d9e22dfa",
   "metadata": {},
   "source": [
    "#### Year Selection"
   ]
  },
  {
   "cell_type": "code",
   "execution_count": 25,
   "id": "7d06a10e-88d9-4d88-8d6c-7168f618d3ad",
   "metadata": {},
   "outputs": [],
   "source": [
    "# Year Selection\n",
    "year_slider = pn.widgets.IntSlider(name='Select Year', start=2004, end=2022, step=1, value=2022)"
   ]
  },
  {
   "cell_type": "code",
   "execution_count": 26,
   "id": "724d70f7-d330-4683-86b3-20de85eeb1e4",
   "metadata": {},
   "outputs": [
    {
     "data": {
      "application/vnd.jupyter.widget-view+json": {
       "model_id": "64f415275f5d4765bb06fb0bf29b3b34",
       "version_major": 2,
       "version_minor": 0
      },
      "text/plain": [
       "BokehModel(combine_events=True, render_bundle={'docs_json': {'91837678-09d5-4883-9dcd-b2c803ad1212': {'version…"
      ]
     },
     "execution_count": 26,
     "metadata": {},
     "output_type": "execute_result"
    }
   ],
   "source": [
    "# Display & test year slider\n",
    "year_slider"
   ]
  },
  {
   "cell_type": "markdown",
   "id": "9b48dabb-c520-48e5-bdfa-4866617ecc20",
   "metadata": {},
   "source": [
    "#### Country Selection"
   ]
  },
  {
   "cell_type": "code",
   "execution_count": 27,
   "id": "611381fc-a79b-43c8-a12f-1f270d4133f1",
   "metadata": {},
   "outputs": [],
   "source": [
    "# Extract unique country names\n",
    "unique_countries = df_renewable['Country'].unique().tolist()\n",
    "unique_flags = df_renewable['Country Flag'].unique().tolist()\n",
    "\n",
    "# Combine country names and flags\n",
    "country_flag_items = [f\"{flag} {country}\" for country, flag in zip(unique_countries, unique_flags)]\n",
    "\n",
    "# Define the default country\n",
    "default_country = \"Germany\"\n",
    "\n",
    "# Find the corresponding entry in `country_flag_items`\n",
    "default_value = next(item for item in country_flag_items if default_country in item)\n",
    "\n",
    "# Country selection widget\n",
    "country_selection = pn.widgets.Select(name='Select country', options=country_flag_items, value=default_value)"
   ]
  },
  {
   "cell_type": "code",
   "execution_count": 28,
   "id": "f5ec3112-dc06-4979-8651-76e049d17f2a",
   "metadata": {},
   "outputs": [
    {
     "data": {
      "application/vnd.jupyter.widget-view+json": {
       "model_id": "26f1e27d67474ff4aa1468433756e693",
       "version_major": 2,
       "version_minor": 0
      },
      "text/plain": [
       "BokehModel(combine_events=True, render_bundle={'docs_json': {'ef3c2fb2-01e2-44e1-8ebf-1b02d06c6fd6': {'version…"
      ]
     },
     "execution_count": 28,
     "metadata": {},
     "output_type": "execute_result"
    }
   ],
   "source": [
    "# Display & test country selection\n",
    "country_selection"
   ]
  },
  {
   "cell_type": "markdown",
   "id": "a7901770-0d0d-4bb5-9d62-2538381d6a38",
   "metadata": {},
   "source": [
    "### Sidebar"
   ]
  },
  {
   "cell_type": "code",
   "execution_count": 29,
   "id": "a33c1ab4-a1b7-428d-876b-47253eb9ae1c",
   "metadata": {},
   "outputs": [],
   "source": [
    "# Define Markdown content\n",
    "sidebar_content = \"\"\"\n",
    "#### About\n",
    "Explore renewable energy developments in the European Union. Data is sourced from [Eurostat](https://ec.europa.eu/eurostat/databrowser/explore/all/envir?lang=en&subtheme=nrg&display=list&sort=category).\n",
    "\n",
    "#### Project Page on GitHub\n",
    "[https://github.com/kuranez/EU-Energy-Map](https://github.com/kuranez/EU-Energy-Map) \\\n",
    "\"\"\"\n",
    "\n",
    "sidebar_pane = pn.pane.Markdown(sidebar_content)"
   ]
  },
  {
   "cell_type": "code",
   "execution_count": 30,
   "id": "e3b0ba62-44c5-4e0d-b651-62fca6de1515",
   "metadata": {},
   "outputs": [
    {
     "data": {
      "application/vnd.jupyter.widget-view+json": {
       "model_id": "b40234d98ea342669691d24fa558b250",
       "version_major": 2,
       "version_minor": 0
      },
      "text/plain": [
       "BokehModel(combine_events=True, render_bundle={'docs_json': {'53208bd9-39ae-4561-b32c-2eeccb0e5e59': {'version…"
      ]
     },
     "execution_count": 30,
     "metadata": {},
     "output_type": "execute_result"
    }
   ],
   "source": [
    "sidebar_pane"
   ]
  },
  {
   "cell_type": "markdown",
   "id": "f04ed994-f522-4991-bcbf-8904480ff3bf",
   "metadata": {},
   "source": [
    "## Dashboard Content"
   ]
  },
  {
   "cell_type": "markdown",
   "id": "9444b2ee-c14d-481c-9d61-70a7c21fe51d",
   "metadata": {},
   "source": [
    "### Table"
   ]
  },
  {
   "cell_type": "code",
   "execution_count": 31,
   "id": "954d679e-23d8-420d-822c-1d2707d50a09",
   "metadata": {},
   "outputs": [],
   "source": [
    "# Display data in Tabulator widget\n",
    "fig_table = pn.widgets.Tabulator(\n",
    "    df_renewable[['Country', 'Country Code', 'Country Flag', 'Energy Type', 'Renewable Percentage', 'Year']],\n",
    "    pagination=\"remote\",          # Enables pagination\n",
    "    page_size=10,                 # Sets the number of rows per page\n",
    "    show_index=False              # Hides the index column\n",
    ")"
   ]
  },
  {
   "cell_type": "code",
   "execution_count": 32,
   "id": "1608694c-d4d7-491d-8691-2c6aaba05d67",
   "metadata": {},
   "outputs": [
    {
     "data": {
      "application/vnd.jupyter.widget-view+json": {
       "model_id": "c48c3ae2e42f40318a303dba40ca9785",
       "version_major": 2,
       "version_minor": 0
      },
      "text/plain": [
       "BokehModel(combine_events=True, render_bundle={'docs_json': {'60e46c48-55c1-49b3-b1a9-9908e2f3ede7': {'version…"
      ]
     },
     "execution_count": 32,
     "metadata": {},
     "output_type": "execute_result"
    }
   ],
   "source": [
    "fig_table"
   ]
  },
  {
   "cell_type": "markdown",
   "id": "2679c5fc-c8d9-4825-badb-d691cea1cb75",
   "metadata": {},
   "source": [
    "### Map"
   ]
  },
  {
   "cell_type": "code",
   "execution_count": 33,
   "id": "134f4cdc-8f8f-4310-bbba-77ab70d026d9",
   "metadata": {},
   "outputs": [],
   "source": [
    "@pn.cache\n",
    "# Create Choropleth map function\n",
    "def create_choropleth_map(df_year):\n",
    "    fig_map = go.Figure(go.Choroplethmapbox(\n",
    "        geojson=europe_map,\n",
    "        locations=df_year['Country Code'],\n",
    "        z=df_year['Renewable Percentage'],\n",
    "        colorscale=\"Viridis\",\n",
    "        zmin=0, zmax=100,\n",
    "        marker_opacity=0.8, marker_line_width=0.5,\n",
    "        featureidkey=\"properties.ISO2\",\n",
    "        hoverinfo='location+z', hovertext=df_year['Renewable Percentage']\n",
    "    ))\n",
    "    fig_map.update_layout(\n",
    "        mapbox_accesstoken=mapbox_token,\n",
    "        mapbox_style=\"carto-positron\",\n",
    "        mapbox_zoom=3,\n",
    "        mapbox_center={\"lat\": 54, \"lon\": 15},\n",
    "        title=\"Renewable Energy as Percentage by Country in 2022\",\n",
    "        margin={\"r\": 0, \"t\": 0, \"l\": 0, \"b\": 0},\n",
    "        geo=dict(scope='europe', showlakes=False)\n",
    "    )\n",
    "    return fig_map"
   ]
  },
  {
   "cell_type": "code",
   "execution_count": 34,
   "id": "f3f50f29-c3f2-4c27-bd70-11c7b5b56fdb",
   "metadata": {},
   "outputs": [
    {
     "name": "stderr",
     "output_type": "stream",
     "text": [
      "/tmp/ipykernel_35158/3207055277.py:4: DeprecationWarning: *choroplethmapbox* is deprecated! Use *choroplethmap* instead. Learn more at: https://plotly.com/python/mapbox-to-maplibre/\n",
      "  fig_map = go.Figure(go.Choroplethmapbox(\n"
     ]
    }
   ],
   "source": [
    "eu_map = create_choropleth_map(df_year)"
   ]
  },
  {
   "cell_type": "code",
   "execution_count": null,
   "id": "8c45b4d3-8401-489d-be98-e673f85be2cd",
   "metadata": {},
   "outputs": [
    {
     "data": {
      "application/vnd.jupyter.widget-view+json": {
       "model_id": "386e18e255af422088ed7af710c2245d",
       "version_major": 2,
       "version_minor": 0
      },
      "text/plain": [
       "BokehModel(combine_events=True, render_bundle={'docs_json': {'c4bac3bb-22e2-4240-bf13-ee7c64a3b666': {'version…"
      ]
     },
     "execution_count": 35,
     "metadata": {},
     "output_type": "execute_result"
    }
   ],
   "source": [
    "# Display as Panel pane\n",
    "map_pane = pn.pane.Plotly(eu_map, width=1200)\n",
    "map_pane"
   ]
  },
  {
   "cell_type": "markdown",
   "id": "c562ad4c-20cb-4665-bb21-e58f0664dcda",
   "metadata": {},
   "source": [
    "### Charts"
   ]
  },
  {
   "cell_type": "markdown",
   "id": "3ee4126c-d62f-4f03-b8e1-921ac18db3ea",
   "metadata": {},
   "source": [
    "#### Filtered by Year"
   ]
  },
  {
   "cell_type": "code",
   "execution_count": 36,
   "id": "ea2cc3fb-80b7-411c-900a-4f14ba062119",
   "metadata": {},
   "outputs": [],
   "source": [
    "# Create bar chart by year for all countries\n",
    "@pn.cache\n",
    "def create_bar_chart_year(df_year, year):\n",
    "    # Sort dataframe by renewable percentage in ascending order\n",
    "    df_year = df_year.sort_values(by='Renewable Percentage')\n",
    "\n",
    "    # Calculate EU total average renewable percentage for 2022\n",
    "    eu_total_avg = df_year['Renewable Percentage'].mean()\n",
    "\n",
    "    # Map EU total average to a color in the Viridis scale\n",
    "    color_scale = px.colors.sequential.Viridis\n",
    "    normalized_avg = eu_total_avg / 100  # Normalize average to a 0-1 range\n",
    "    scaled_color = sample_colorscale(color_scale, normalized_avg)[0]\n",
    "    \n",
    "    # Create bar trace (main layer)\n",
    "    bar_trace = go.Bar(\n",
    "        x=df_year['Country'],\n",
    "        y=df_year['Renewable Percentage'],\n",
    "        marker=dict(\n",
    "            color=df_year['Renewable Percentage'],\n",
    "            coloraxis='coloraxis',  # Link to coloraxis\n",
    "        ),\n",
    "        name=\"\",  # Fix to hide trace info\n",
    "        hovertemplate=\"Country: %{customdata[0]} \"\n",
    "                      \"<b>%{customdata[1]}</b><br>\"\n",
    "                      \"Renewable Percentage: <b>%{y:.1f}%</b>\",\n",
    "        customdata=df_year[['Country Flag', 'Country']].values,  # Attach custom data\n",
    "        showlegend=False,\n",
    "    )\n",
    "    \n",
    "    # Add scatter trace for EU Total Average (border layer)\n",
    "    scatter_trace_border = go.Scatter(\n",
    "        x=df_year['Country'],  # Use all countries to make the line span across\n",
    "        y=[eu_total_avg] * len(df_year),  # Duplicate average value for each country\n",
    "        mode=\"lines\",\n",
    "        line=dict(dash=\"solid\", color=\"rgba(255, 255, 255, 0.7)\", width=4),\n",
    "        hoverinfo=\"skip\",  # Suppress hover for border layer\n",
    "        showlegend=False,\n",
    "    )\n",
    "    \n",
    "    # Add scatter trace for EU Total Average (main layer)\n",
    "    scatter_trace = go.Scatter(\n",
    "        x=df_year['Country'],  # Use all countries to make the line span across\n",
    "        y=[eu_total_avg] * len(df_year),  # Duplicate average value for each country\n",
    "        mode=\"lines\",\n",
    "        line=dict(dash=\"solid\", color=scaled_color, width=2),\n",
    "        hovertemplate=\"🇪🇺 EU Total Average:<b> %{y:.1f}%</b>\",\n",
    "        name=\"\",  # Fix to suppress showing trace info\n",
    "        showlegend=False,\n",
    "    )\n",
    "\n",
    "    # Create figure\n",
    "    fig = go.Figure(data=[bar_trace, scatter_trace_border, scatter_trace])\n",
    "\n",
    "    # Update layout\n",
    "    fig.update_layout(\n",
    "        title=f\"Renewable Energy Percentage by Country in {year}\",\n",
    "        xaxis=dict(title=None),\n",
    "        yaxis=dict(title=\"Renewable Energy (%)\"),\n",
    "        coloraxis=dict(  # Define coloraxis for color bar\n",
    "            colorscale='Viridis',\n",
    "            cmin=0,\n",
    "            cmax=100,\n",
    "            colorbar=dict(\n",
    "                orientation=\"v\",\n",
    "                title=None,\n",
    "                tickvals=[0, 20, 40, 60, 80, 100],\n",
    "                ticktext=[\"0%\", \"20%\", \"40%\", \"60%\", \"80%\", \"100%\"],\n",
    "            ),\n",
    "        ),\n",
    "        margin={\"t\": 50, \"b\": 50, \"l\": 50, \"r\": 50},\n",
    "        height=450,\n",
    "    )\n",
    "\n",
    "    return fig"
   ]
  },
  {
   "cell_type": "code",
   "execution_count": 37,
   "id": "1038ba6c-1318-4697-9b03-17599c43b657",
   "metadata": {},
   "outputs": [],
   "source": [
    "# Create Figure\n",
    "year = selected_year\n",
    "fig_by_year = create_bar_chart_year(df_year, year)"
   ]
  },
  {
   "cell_type": "code",
   "execution_count": null,
   "id": "b167a2b6-28e7-4a83-b403-33e611ea442b",
   "metadata": {},
   "outputs": [
    {
     "data": {
      "application/vnd.jupyter.widget-view+json": {
       "model_id": "d9cd7369d8794557bc328915061d4072",
       "version_major": 2,
       "version_minor": 0
      },
      "text/plain": [
       "BokehModel(combine_events=True, render_bundle={'docs_json': {'31844b71-647d-4b87-a57d-a76f380ed9f9': {'version…"
      ]
     },
     "execution_count": 38,
     "metadata": {},
     "output_type": "execute_result"
    }
   ],
   "source": [
    "# Display as Panel pane\n",
    "fig_pane_1 = pn.pane.Plotly(fig_by_year, width=1200)\n",
    "fig_pane_1"
   ]
  },
  {
   "cell_type": "markdown",
   "id": "63868fe1-e0eb-4864-a943-79f3b516e263",
   "metadata": {},
   "source": [
    "##### Extras"
   ]
  },
  {
   "cell_type": "code",
   "execution_count": 39,
   "id": "5204881d-a989-4107-8378-d0e9b61d6b5e",
   "metadata": {},
   "outputs": [],
   "source": [
    "# # Extras: Annotations\n",
    "\n",
    "# # Add annotation for EU average\n",
    "# fig.add_annotation(\n",
    "#     x=0 + 3.5, # Offset right\n",
    "#     y=eu_total_avg + 5,  # Offset above the EU average line\n",
    "#     xref=\"x\",\n",
    "#     yref=\"y\",\n",
    "#     text=f\"🇪🇺 EU Total Average: <b>{eu_total_avg:.1f} %</b>\",\n",
    "#     showarrow=False,  # No arrow needed\n",
    "#     align=\"left\",  # Left-align text\n",
    "#     font=dict(\n",
    "#         size=12,\n",
    "#         color=\"white\",\n",
    "#     ),\n",
    "#     bgcolor=scaled_color,  # Color-scaled background\n",
    "#     bordercolor=\"white\",  # Border around the text box\n",
    "#     borderwidth=1,\n",
    "#     borderpad=5,\n",
    "# )"
   ]
  },
  {
   "cell_type": "markdown",
   "id": "43fac3c9-623f-4202-9a09-b39d3941299c",
   "metadata": {},
   "source": [
    "#### Filtered by Country"
   ]
  },
  {
   "cell_type": "code",
   "execution_count": 40,
   "id": "702c1587-12ee-40ce-a7ea-8230e24a58f5",
   "metadata": {},
   "outputs": [],
   "source": [
    "# Create Country Chart\n",
    "@pn.cache\n",
    "def create_bar_chart_country(df_eu_total, df_country, country):\n",
    "    # Calculate the average renewable energy percentage for all years (used for annotation)\n",
    "    eu_total_avg = df_eu_total['Renewable Percentage'].mean()\n",
    "    \n",
    "    # Map EU total average to a color in the Viridis scale\n",
    "    color_scale = px.colors.sequential.Viridis\n",
    "    normalized_avg = eu_total_avg / 100  # Normalize average to a 0-1 range\n",
    "    scaled_color = sample_colorscale(color_scale, normalized_avg)[0]\n",
    "\n",
    "    # Create the figure with Plotly\n",
    "    fig = go.Figure()\n",
    "\n",
    "    # Add the line trace for EU total renewable energy percentage over the years\n",
    "    fig.add_trace(go.Scatter(\n",
    "        x=df_eu_total['Year'], \n",
    "        y=df_eu_total['Renewable Percentage'], \n",
    "        mode='lines+markers',\n",
    "        line=dict(color=scaled_color, width=3),\n",
    "        marker=dict(\n",
    "            size=6,\n",
    "            color=df_eu_total['Renewable Percentage'],  # Map the renewable percentage to color\n",
    "            colorscale='Viridis',\n",
    "            coloraxis=\"coloraxis\",\n",
    "        ),\n",
    "        hovertemplate=\"🇪🇺 %{x}: <b>%{y:.1f}%</b>\",\n",
    "        name=\"EU Total\",\n",
    "    ))\n",
    "\n",
    "    # Add the bar trace for the selected country's renewable energy percentage\n",
    "    fig.add_trace(go.Bar(\n",
    "        x=df_country['Year'], \n",
    "        y=df_country['Renewable Percentage'],\n",
    "        marker=dict(\n",
    "            color=df_country['Renewable Percentage'],  # Map the renewable percentage to color\n",
    "            colorscale='Viridis',\n",
    "            coloraxis=\"coloraxis\",\n",
    "        ),\n",
    "        customdata=df_country[['Country Flag', 'Country']].values,  # Attach custom data\n",
    "        hovertemplate=\"Country: %{customdata[0]} \"\n",
    "                      \"<b>%{customdata[1]}</b><br>\"\n",
    "                      \"Year: <b>%{x}</b><br>\"\n",
    "                      \"Renewable Percentage: <b>%{y:.1f}%</b>\",\n",
    "        name=\"\",\n",
    "        showlegend=False,\n",
    "    ))\n",
    "\n",
    "    # Define the layout with legend at the bottom\n",
    "    fig.update_layout(\n",
    "        title=f\"Renewable Energy Percentage ({country}, 2004-2022)\",\n",
    "        xaxis=dict(\n",
    "            title=\"Year\",\n",
    "            showgrid=False,\n",
    "            showline=True,\n",
    "            tickmode=\"linear\",\n",
    "            tick0=2005,\n",
    "            dtick=5,\n",
    "            range=[2003.5, 2022.5],\n",
    "        ),\n",
    "        yaxis=dict(\n",
    "            title=\"Renewable Energy (%)\",\n",
    "        ),\n",
    "        coloraxis=dict(\n",
    "            colorscale='Viridis',\n",
    "            cmin=0,\n",
    "            cmax=100,\n",
    "            colorbar=dict(\n",
    "                orientation=\"v\",\n",
    "                tickvals=[0, 20, 40, 60, 80, 100],\n",
    "                ticktext=[\"0%\", \"20%\", \"40%\", \"60%\", \"80%\", \"100%\"],\n",
    "            ),\n",
    "        ),\n",
    "        height=450,\n",
    "        margin={\"t\": 50, \"b\": 50, \"l\": 50, \"r\": 50},\n",
    "        showlegend=True,\n",
    "        legend=dict(\n",
    "            orientation=\"h\",\n",
    "            yanchor=\"top\",\n",
    "            y=1-0.01,\n",
    "            xanchor=\"left\",\n",
    "            x=0+0.01\n",
    "        ),\n",
    "    )\n",
    "\n",
    "    return fig"
   ]
  },
  {
   "cell_type": "code",
   "execution_count": 41,
   "id": "47a51c96-0f49-4e95-9782-522e9424ebb7",
   "metadata": {},
   "outputs": [],
   "source": [
    "# Create chart\n",
    "country = selected_country\n",
    "fig_by_country = create_bar_chart_country(df_eu_total, df_country, country)"
   ]
  },
  {
   "cell_type": "code",
   "execution_count": null,
   "id": "c4192533-d930-4a73-a02c-68bc2bad850a",
   "metadata": {},
   "outputs": [
    {
     "data": {
      "application/vnd.jupyter.widget-view+json": {
       "model_id": "b4e416debcbd47bcbd93539e693091ea",
       "version_major": 2,
       "version_minor": 0
      },
      "text/plain": [
       "BokehModel(combine_events=True, render_bundle={'docs_json': {'65d07214-8ad0-47b6-81af-146b6417d6f3': {'version…"
      ]
     },
     "execution_count": 42,
     "metadata": {},
     "output_type": "execute_result"
    }
   ],
   "source": [
    "# Display as Panel pane\n",
    "fig_pane_2 = pn.pane.Plotly(fig_by_country, width=1200)\n",
    "fig_pane_2"
   ]
  },
  {
   "cell_type": "markdown",
   "id": "dedbdcfe-9d94-419f-9937-199f068d2624",
   "metadata": {},
   "source": [
    "#### Comparison Charts"
   ]
  },
  {
   "cell_type": "code",
   "execution_count": 43,
   "id": "e7acf1f5-4c68-4c77-a8e3-adb937fd937b",
   "metadata": {},
   "outputs": [],
   "source": [
    "# @pn.cache\n",
    "# def create_line_chart_eu_total(df_eu_total):\n",
    "#     # Calculate the average renewable energy percentage for all years (used for annotation)\n",
    "#     eu_total_avg = df_eu_total['Renewable Percentage'].mean()\n",
    "    \n",
    "#     # Map EU total average to a color in the Viridis scale\n",
    "#     color_scale = px.colors.sequential.Viridis\n",
    "#     normalized_avg = eu_total_avg / 100  # Normalize average to a 0-1 range\n",
    "#     scaled_color = px.colors.sample_colorscale(color_scale, normalized_avg)[0]\n",
    "\n",
    "#     # Create the line chart with Plotly go\n",
    "#     fig = go.Figure()\n",
    "\n",
    "#     # Add the line trace for Renewable Energy Percentage over the years\n",
    "#     fig.add_trace(go.Scatter(\n",
    "#         x=df_eu_total['Year'],  # x values: Year\n",
    "#         y=df_eu_total['Renewable Percentage'],  # y values: Renewable Percentage\n",
    "#         mode='lines+markers',  # Show both the line and markers\n",
    "#         line=dict(color=scaled_color, width=3),\n",
    "#         marker=dict(\n",
    "#             size=6,\n",
    "#             color=df_eu_total['Renewable Percentage'],  # Map the renewable percentage to color\n",
    "#             colorscale='Viridis',\n",
    "#             coloraxis=\"coloraxis\",\n",
    "#         ),\n",
    "#         hovertemplate=\"🇪🇺 %{x}: <b>%{y:.1f}% </b>\",\n",
    "#         name=\"\",\n",
    "#     ))\n",
    "\n",
    "#     # Define the layout\n",
    "#     fig.update_layout(\n",
    "#         title=\"EU Total Renewable Energy Percentage Over Time (2004-2022)\",\n",
    "#         xaxis=dict(\n",
    "#             title=\"Year\",\n",
    "#             showgrid=False,\n",
    "#             showline=True,\n",
    "#             ticks=\"outside\",\n",
    "#             tickmode=\"linear\",\n",
    "#             tick0=2005,\n",
    "#             dtick=5,\n",
    "#             range=[2005, 2022],\n",
    "#             domain=[0, 1],\n",
    "#         ),\n",
    "#         yaxis=dict(\n",
    "#             title=\"Renewable Energy (%)\",\n",
    "#             ticks=\"outside\",\n",
    "#             tickmode=\"linear\",\n",
    "#             tick0=0,\n",
    "#             dtick=5,\n",
    "#         ),\n",
    "#         coloraxis=dict(\n",
    "#             colorscale='Viridis',\n",
    "#             cmin=0,\n",
    "#             cmax=100,\n",
    "#             colorbar=dict(\n",
    "#                 orientation=\"v\",\n",
    "#                 tickvals=[0, 20, 40, 60, 80, 100],\n",
    "#                 ticktext=[\"0%\", \"20%\", \"40%\", \"60%\", \"80%\", \"100%\"],\n",
    "#             ),\n",
    "#         ),\n",
    "#         height=450,\n",
    "#         margin={\"t\": 50, \"b\": 50, \"l\": 10, \"r\": 10},\n",
    "#         showlegend=False,\n",
    "#     )\n",
    "\n",
    "#     return fig\n"
   ]
  },
  {
   "cell_type": "code",
   "execution_count": 44,
   "id": "42c9796a-877c-4437-8f4a-ed94847c2fc7",
   "metadata": {},
   "outputs": [],
   "source": [
    "# # Create the line chart for EU total\n",
    "# fig_line = create_line_chart_eu_total(df_eu_total)"
   ]
  },
  {
   "cell_type": "code",
   "execution_count": 45,
   "id": "399e8650-69cc-4b04-a3ea-3d9000134d2d",
   "metadata": {},
   "outputs": [],
   "source": [
    "# # Display as Panel pane\n",
    "# fig_pane_3 = pn.pane.Plotly(fig_line, sizing_mode='stretch_width')\n",
    "# fig_pane_3"
   ]
  },
  {
   "cell_type": "markdown",
   "id": "d21ed34f-16b4-46fe-9939-bafb3ed20ae3",
   "metadata": {},
   "source": [
    "## Create Dashboard"
   ]
  },
  {
   "cell_type": "markdown",
   "id": "036199b1-f006-41a0-9278-3f7d71e30cec",
   "metadata": {},
   "source": [
    "#### Update Map & Charts"
   ]
  },
  {
   "cell_type": "code",
   "execution_count": 46,
   "id": "ffd716ab-e92e-4dc7-8a77-5d553f9bbf58",
   "metadata": {},
   "outputs": [],
   "source": [
    "# Map and bar chart update functions\n",
    "@pn.cache\n",
    "def update_map(year):\n",
    "    df_selected_year = df_renewable[df_renewable['Year'] == year]\n",
    "    return create_choropleth_map(df_selected_year)\n",
    "\n",
    "@pn.cache\n",
    "def update_year_chart(year):\n",
    "    df_selected_year = df_renewable[df_renewable['Year'] == year].sort_values(by='Renewable Percentage')\n",
    "    return create_bar_chart_year(df_selected_year, year)\n",
    "\n",
    "@pn.cache\n",
    "def update_country_chart(country):\n",
    "    df_selected_country = df_renewable[df_renewable['Country'] == country]\n",
    "    return create_bar_chart_country(df_eu_total, df_selected_country, country)\n",
    "\n",
    "def update_country_chart(selected_value):\n",
    "    # Extract the country name from the selection\n",
    "    selected_country = selected_value.split(\" \", 1)[1]\n",
    "    \n",
    "    # Filter the dataframe for the selected country\n",
    "    df_selected_country = df_renewable[df_renewable['Country'] == selected_country]\n",
    "    \n",
    "    # Create the bar chart\n",
    "    return create_bar_chart_country(df_eu_total, df_selected_country, selected_country)\n"
   ]
  },
  {
   "cell_type": "markdown",
   "id": "47d49f17-5390-49e3-929b-67c58f5a8f7a",
   "metadata": {},
   "source": [
    "#### Bind Functions"
   ]
  },
  {
   "cell_type": "code",
   "execution_count": 47,
   "id": "f80c6b0e-c414-4de3-9990-80725758afe9",
   "metadata": {},
   "outputs": [],
   "source": [
    "# Bind year selection\n",
    "interactive_map = pn.bind(update_map, year_slider)\n",
    "interactive_bar_chart_year = pn.bind(update_year_chart, year_slider)"
   ]
  },
  {
   "cell_type": "code",
   "execution_count": 48,
   "id": "3e77be0c-4696-42e2-9df3-f14beeb14bcf",
   "metadata": {},
   "outputs": [],
   "source": [
    "# Bind country selection\n",
    "interactive_bar_chart_country = pn.bind(update_country_chart, country_selection.param.value)"
   ]
  },
  {
   "cell_type": "markdown",
   "id": "8d721c2d-f72b-44a9-aa2a-1877480169fd",
   "metadata": {},
   "source": [
    "#### Panes & Tabs"
   ]
  },
  {
   "cell_type": "code",
   "execution_count": 53,
   "id": "e2beea1d-89f4-4bf4-89f0-af12963368c8",
   "metadata": {},
   "outputs": [],
   "source": [
    "filter_year_pane = pn.Column(\n",
    "    year_slider, \n",
    "    pn.pane.Plotly(interactive_bar_chart_year, width=1200)\n",
    ")\n",
    "\n",
    "filter_country_pane = pn.Column(\n",
    "    country_selection, \n",
    "    pn.pane.Plotly(interactive_bar_chart_country, width=1200)\n",
    ")"
   ]
  },
  {
   "cell_type": "code",
   "execution_count": 54,
   "id": "c6230476-e141-4323-b47a-7534f584dcbd",
   "metadata": {},
   "outputs": [
    {
     "data": {
      "application/vnd.jupyter.widget-view+json": {
       "model_id": "9952e1e3a3ff499aa8d24986f44ce0aa",
       "version_major": 2,
       "version_minor": 0
      },
      "text/plain": [
       "BokehModel(combine_events=True, render_bundle={'docs_json': {'efafd5ed-2f7a-48a3-a39e-cdbc4ac76b20': {'version…"
      ]
     },
     "execution_count": 54,
     "metadata": {},
     "output_type": "execute_result"
    }
   ],
   "source": [
    "tabs = pn.Tabs(\n",
    "    ('Filter by Year', filter_year_pane),\n",
    "    ('Filter by Country', filter_country_pane)\n",
    ")\n",
    "\n",
    "tabs"
   ]
  },
  {
   "cell_type": "markdown",
   "id": "ecc7c4bc-e30d-4542-a3af-9de59c25ebda",
   "metadata": {},
   "source": [
    "#### Layout Components"
   ]
  },
  {
   "cell_type": "code",
   "execution_count": 56,
   "id": "50076b3c-b8f6-4f1b-b7cc-9a2fa70e2342",
   "metadata": {},
   "outputs": [
    {
     "data": {
      "application/vnd.jupyter.widget-view+json": {
       "model_id": "dc696cee5bbb40f78bd6d40d14677a45",
       "version_major": 2,
       "version_minor": 0
      },
      "text/plain": [
       "BokehModel(combine_events=True, render_bundle={'docs_json': {'8a9c6ae0-8dd8-49fa-8891-07636ad52699': {'version…"
      ]
     },
     "execution_count": 56,
     "metadata": {},
     "output_type": "execute_result"
    }
   ],
   "source": [
    "layout = pn.Column(\n",
    "    pn.pane.Plotly(interactive_map, width=1200),\n",
    "    tabs,\n",
    ")\n",
    "\n",
    "layout"
   ]
  },
  {
   "cell_type": "markdown",
   "id": "5db95a77-6c8e-42cd-9f8a-f15f05ec9a46",
   "metadata": {},
   "source": [
    "#### Serve Dashboard"
   ]
  },
  {
   "cell_type": "code",
   "execution_count": 57,
   "id": "42fa6efb-b15a-49dd-b93d-9a19fed2b05c",
   "metadata": {},
   "outputs": [],
   "source": [
    "pn.template.FastListTemplate(\n",
    "    title=\"EU Energy Map\", sidebar=[sidebar_pane],\n",
    "    main=[layout]\n",
    ").servable();"
   ]
  },
  {
   "cell_type": "code",
   "execution_count": null,
   "id": "e56f078e-4eb9-4f77-866c-ea391cb7cbc6",
   "metadata": {},
   "outputs": [],
   "source": []
  },
  {
   "cell_type": "code",
   "execution_count": null,
   "id": "fb6ed456-9c92-457f-96ba-6929c9300cbb",
   "metadata": {},
   "outputs": [],
   "source": []
  }
 ],
 "metadata": {
  "kernelspec": {
   "display_name": "jupyter_env",
   "language": "python",
   "name": "python3"
  },
  "language_info": {
   "codemirror_mode": {
    "name": "ipython",
    "version": 3
   },
   "file_extension": ".py",
   "mimetype": "text/x-python",
   "name": "python",
   "nbconvert_exporter": "python",
   "pygments_lexer": "ipython3",
   "version": "3.11.12"
  }
 },
 "nbformat": 4,
 "nbformat_minor": 5
}
